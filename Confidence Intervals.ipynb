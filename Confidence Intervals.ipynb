{
 "cells": [
  {
   "cell_type": "markdown",
   "id": "aefed211",
   "metadata": {},
   "source": [
    "# Inferential Statistics Practice\n",
    "Using Python to apply inferential statistics concepts including sampling distributions, confidence intervals, hypothesis testing, etc."
   ]
  },
  {
   "cell_type": "markdown",
   "id": "453f44aa",
   "metadata": {},
   "source": [
    "## Confidence Intervals"
   ]
  },
  {
   "cell_type": "code",
   "execution_count": 1,
   "id": "20b8ea3f",
   "metadata": {},
   "outputs": [],
   "source": [
    "import pandas as pd\n",
    "import numpy as np\n",
    "import matplotlib.pyplot as plt\n",
    "\n",
    "np.random.seed(42)\n",
    "\n",
    "#coffee_full = pd.read_csv('../data/coffee_dataset.csv')\n",
    "#coffee_red = coffee_full. sample (200)"
   ]
  },
  {
   "cell_type": "code",
   "execution_count": 2,
   "id": "8b3ad93e",
   "metadata": {},
   "outputs": [
    {
     "data": {
      "text/html": [
       "<div>\n",
       "<style scoped>\n",
       "    .dataframe tbody tr th:only-of-type {\n",
       "        vertical-align: middle;\n",
       "    }\n",
       "\n",
       "    .dataframe tbody tr th {\n",
       "        vertical-align: top;\n",
       "    }\n",
       "\n",
       "    .dataframe thead th {\n",
       "        text-align: right;\n",
       "    }\n",
       "</style>\n",
       "<table border=\"1\" class=\"dataframe\">\n",
       "  <thead>\n",
       "    <tr style=\"text-align: right;\">\n",
       "      <th></th>\n",
       "      <th>user_id</th>\n",
       "      <th>age</th>\n",
       "      <th>drinks_coffee</th>\n",
       "      <th>height</th>\n",
       "    </tr>\n",
       "  </thead>\n",
       "  <tbody>\n",
       "    <tr>\n",
       "      <th>0</th>\n",
       "      <td>4509</td>\n",
       "      <td>&lt;21</td>\n",
       "      <td>False</td>\n",
       "      <td>64.538179</td>\n",
       "    </tr>\n",
       "    <tr>\n",
       "      <th>1</th>\n",
       "      <td>1864</td>\n",
       "      <td>&gt;=21</td>\n",
       "      <td>True</td>\n",
       "      <td>65.824249</td>\n",
       "    </tr>\n",
       "    <tr>\n",
       "      <th>2</th>\n",
       "      <td>2060</td>\n",
       "      <td>&lt;21</td>\n",
       "      <td>False</td>\n",
       "      <td>71.319854</td>\n",
       "    </tr>\n",
       "    <tr>\n",
       "      <th>3</th>\n",
       "      <td>7875</td>\n",
       "      <td>&gt;=21</td>\n",
       "      <td>True</td>\n",
       "      <td>68.569404</td>\n",
       "    </tr>\n",
       "    <tr>\n",
       "      <th>4</th>\n",
       "      <td>6254</td>\n",
       "      <td>&lt;21</td>\n",
       "      <td>True</td>\n",
       "      <td>64.020226</td>\n",
       "    </tr>\n",
       "  </tbody>\n",
       "</table>\n",
       "</div>"
      ],
      "text/plain": [
       "   user_id   age  drinks_coffee     height\n",
       "0     4509   <21          False  64.538179\n",
       "1     1864  >=21           True  65.824249\n",
       "2     2060   <21          False  71.319854\n",
       "3     7875  >=21           True  68.569404\n",
       "4     6254   <21           True  64.020226"
      ]
     },
     "execution_count": 2,
     "metadata": {},
     "output_type": "execute_result"
    }
   ],
   "source": [
    "df = pd.read_csv('coffee_dataset.csv')\n",
    "df.head()"
   ]
  },
  {
   "cell_type": "code",
   "execution_count": 3,
   "id": "d4cd94ff",
   "metadata": {},
   "outputs": [
    {
     "data": {
      "text/plain": [
       "(2974, 4)"
      ]
     },
     "execution_count": 3,
     "metadata": {},
     "output_type": "execute_result"
    }
   ],
   "source": [
    "df.shape"
   ]
  },
  {
   "cell_type": "code",
   "execution_count": 4,
   "id": "fac72934",
   "metadata": {},
   "outputs": [
    {
     "data": {
      "text/html": [
       "<div>\n",
       "<style scoped>\n",
       "    .dataframe tbody tr th:only-of-type {\n",
       "        vertical-align: middle;\n",
       "    }\n",
       "\n",
       "    .dataframe tbody tr th {\n",
       "        vertical-align: top;\n",
       "    }\n",
       "\n",
       "    .dataframe thead th {\n",
       "        text-align: right;\n",
       "    }\n",
       "</style>\n",
       "<table border=\"1\" class=\"dataframe\">\n",
       "  <thead>\n",
       "    <tr style=\"text-align: right;\">\n",
       "      <th></th>\n",
       "      <th>user_id</th>\n",
       "      <th>age</th>\n",
       "      <th>drinks_coffee</th>\n",
       "      <th>height</th>\n",
       "    </tr>\n",
       "  </thead>\n",
       "  <tbody>\n",
       "    <tr>\n",
       "      <th>2402</th>\n",
       "      <td>2874</td>\n",
       "      <td>&lt;21</td>\n",
       "      <td>True</td>\n",
       "      <td>64.357154</td>\n",
       "    </tr>\n",
       "    <tr>\n",
       "      <th>2864</th>\n",
       "      <td>3670</td>\n",
       "      <td>&gt;=21</td>\n",
       "      <td>True</td>\n",
       "      <td>66.859636</td>\n",
       "    </tr>\n",
       "    <tr>\n",
       "      <th>2167</th>\n",
       "      <td>7441</td>\n",
       "      <td>&lt;21</td>\n",
       "      <td>False</td>\n",
       "      <td>66.659561</td>\n",
       "    </tr>\n",
       "    <tr>\n",
       "      <th>507</th>\n",
       "      <td>2781</td>\n",
       "      <td>&gt;=21</td>\n",
       "      <td>True</td>\n",
       "      <td>70.166241</td>\n",
       "    </tr>\n",
       "    <tr>\n",
       "      <th>1817</th>\n",
       "      <td>2875</td>\n",
       "      <td>&gt;=21</td>\n",
       "      <td>True</td>\n",
       "      <td>71.369120</td>\n",
       "    </tr>\n",
       "    <tr>\n",
       "      <th>...</th>\n",
       "      <td>...</td>\n",
       "      <td>...</td>\n",
       "      <td>...</td>\n",
       "      <td>...</td>\n",
       "    </tr>\n",
       "    <tr>\n",
       "      <th>1187</th>\n",
       "      <td>6237</td>\n",
       "      <td>&lt;21</td>\n",
       "      <td>False</td>\n",
       "      <td>62.493744</td>\n",
       "    </tr>\n",
       "    <tr>\n",
       "      <th>463</th>\n",
       "      <td>1857</td>\n",
       "      <td>&lt;21</td>\n",
       "      <td>False</td>\n",
       "      <td>66.476106</td>\n",
       "    </tr>\n",
       "    <tr>\n",
       "      <th>1195</th>\n",
       "      <td>6397</td>\n",
       "      <td>&lt;21</td>\n",
       "      <td>False</td>\n",
       "      <td>64.555794</td>\n",
       "    </tr>\n",
       "    <tr>\n",
       "      <th>1080</th>\n",
       "      <td>4065</td>\n",
       "      <td>&lt;21</td>\n",
       "      <td>False</td>\n",
       "      <td>66.842149</td>\n",
       "    </tr>\n",
       "    <tr>\n",
       "      <th>1422</th>\n",
       "      <td>3971</td>\n",
       "      <td>&lt;21</td>\n",
       "      <td>False</td>\n",
       "      <td>61.891849</td>\n",
       "    </tr>\n",
       "  </tbody>\n",
       "</table>\n",
       "<p>200 rows × 4 columns</p>\n",
       "</div>"
      ],
      "text/plain": [
       "      user_id   age  drinks_coffee     height\n",
       "2402     2874   <21           True  64.357154\n",
       "2864     3670  >=21           True  66.859636\n",
       "2167     7441   <21          False  66.659561\n",
       "507      2781  >=21           True  70.166241\n",
       "1817     2875  >=21           True  71.369120\n",
       "...       ...   ...            ...        ...\n",
       "1187     6237   <21          False  62.493744\n",
       "463      1857   <21          False  66.476106\n",
       "1195     6397   <21          False  64.555794\n",
       "1080     4065   <21          False  66.842149\n",
       "1422     3971   <21          False  61.891849\n",
       "\n",
       "[200 rows x 4 columns]"
      ]
     },
     "execution_count": 4,
     "metadata": {},
     "output_type": "execute_result"
    }
   ],
   "source": [
    "coffee_full = pd.read_csv('coffee_dataset.csv')\n",
    "coffee_red = coffee_full.sample(200)\n",
    "coffee_red"
   ]
  },
  {
   "cell_type": "markdown",
   "id": "e45eed04",
   "metadata": {},
   "source": [
    "## Explore Dataset"
   ]
  },
  {
   "cell_type": "code",
   "execution_count": 5,
   "id": "0d238222",
   "metadata": {},
   "outputs": [
    {
     "name": "stdout",
     "output_type": "stream",
     "text": [
      "<class 'pandas.core.frame.DataFrame'>\n",
      "Int64Index: 200 entries, 2402 to 1422\n",
      "Data columns (total 4 columns):\n",
      " #   Column         Non-Null Count  Dtype  \n",
      "---  ------         --------------  -----  \n",
      " 0   user_id        200 non-null    int64  \n",
      " 1   age            200 non-null    object \n",
      " 2   drinks_coffee  200 non-null    bool   \n",
      " 3   height         200 non-null    float64\n",
      "dtypes: bool(1), float64(1), int64(1), object(1)\n",
      "memory usage: 6.4+ KB\n"
     ]
    }
   ],
   "source": [
    "coffee_red.head()\n",
    "coffee_red.info()"
   ]
  },
  {
   "cell_type": "markdown",
   "id": "814abf88",
   "metadata": {},
   "source": [
    "#### Proportion of coffee drinkers in sample"
   ]
  },
  {
   "cell_type": "code",
   "execution_count": 6,
   "id": "78b66847",
   "metadata": {},
   "outputs": [
    {
     "name": "stdout",
     "output_type": "stream",
     "text": [
      "0.595\n",
      "0.405\n"
     ]
    }
   ],
   "source": [
    "mean_drinker = coffee_red['drinks_coffee'].mean()\n",
    "mean_nondrinker = 1 - mean_drinker\n",
    "print(mean_drinker)\n",
    "print(mean_nondrinker)"
   ]
  },
  {
   "cell_type": "markdown",
   "id": "d972d0af",
   "metadata": {},
   "source": [
    "#### Average height of coffee drinkers"
   ]
  },
  {
   "cell_type": "code",
   "execution_count": 7,
   "id": "c3855efd",
   "metadata": {},
   "outputs": [
    {
     "data": {
      "text/plain": [
       "68.11962990858618"
      ]
     },
     "execution_count": 7,
     "metadata": {},
     "output_type": "execute_result"
    }
   ],
   "source": [
    "drinks_height = coffee_red[coffee_red['drinks_coffee']]['height'].mean()\n",
    "drinks_height"
   ]
  },
  {
   "cell_type": "markdown",
   "id": "b4978bf1",
   "metadata": {},
   "source": [
    "#### Average height of non-coffee drinkers"
   ]
  },
  {
   "cell_type": "code",
   "execution_count": 8,
   "id": "ae6e5233",
   "metadata": {},
   "outputs": [
    {
     "data": {
      "text/plain": [
       "66.78492279927877"
      ]
     },
     "execution_count": 8,
     "metadata": {},
     "output_type": "execute_result"
    }
   ],
   "source": [
    "nondrinks_height = coffee_red[~coffee_red['drinks_coffee']]['height'].mean()\n",
    "nondrinks_height"
   ]
  },
  {
   "cell_type": "markdown",
   "id": "f8593b79",
   "metadata": {},
   "source": [
    "#### Bootstrap sample of 200 draws"
   ]
  },
  {
   "cell_type": "code",
   "execution_count": 9,
   "id": "a8bf73a0",
   "metadata": {},
   "outputs": [
    {
     "data": {
      "text/plain": [
       "0.605"
      ]
     },
     "execution_count": 9,
     "metadata": {},
     "output_type": "execute_result"
    }
   ],
   "source": [
    "bootsamp = coffee_red.sample(200,replace=True)\n",
    "bootsamp['drinks_coffee'].mean()"
   ]
  },
  {
   "cell_type": "markdown",
   "id": "acfab11d",
   "metadata": {},
   "source": [
    "#### Bootstrap sample 10,000 times "
   ]
  },
  {
   "cell_type": "code",
   "execution_count": 10,
   "id": "4c67b3c4",
   "metadata": {},
   "outputs": [
    {
     "data": {
      "text/plain": [
       "(array([  16.,  106.,  590., 1831., 2989., 2644., 1352.,  377.,   86.,\n",
       "           9.]),\n",
       " array([65.24631713, 65.56293231, 65.8795475 , 66.19616268, 66.51277787,\n",
       "        66.82939305, 67.14600823, 67.46262342, 67.7792386 , 68.09585379,\n",
       "        68.41246897]),\n",
       " <BarContainer object of 10 artists>)"
      ]
     },
     "execution_count": 10,
     "metadata": {},
     "output_type": "execute_result"
    },
    {
     "data": {
      "image/png": "[encoded data removed]",
      "text/plain": [
       "<Figure size 432x288 with 1 Axes>"
      ]
     },
     "metadata": {
      "needs_background": "light"
     },
     "output_type": "display_data"
    }
   ],
   "source": [
    "boot_means = []\n",
    "for _ in range(10000):\n",
    "    bootsamp = coffee_red.sample(200,replace=True)\n",
    "    mean = bootsamp[bootsamp['drinks_coffee']==False]['height'].mean()\n",
    "    boot_means.append(mean)\n",
    "    \n",
    "plt.hist(boot_means)"
   ]
  },
  {
   "cell_type": "code",
   "execution_count": 18,
   "id": "04b1cfe8",
   "metadata": {},
   "outputs": [
    {
     "data": {
      "text/plain": [
       "10000"
      ]
     },
     "execution_count": 18,
     "metadata": {},
     "output_type": "execute_result"
    }
   ],
   "source": [
    "len(boot_means)"
   ]
  },
  {
   "cell_type": "markdown",
   "id": "ce3bcc1f",
   "metadata": {},
   "source": [
    "#### Obtain 95% confidence interval"
   ]
  },
  {
   "cell_type": "code",
   "execution_count": 12,
   "id": "492d9bd6",
   "metadata": {},
   "outputs": [
    {
     "data": {
      "text/plain": [
       "(65.99291328157521, 67.58402738281573)"
      ]
     },
     "execution_count": 12,
     "metadata": {},
     "output_type": "execute_result"
    }
   ],
   "source": [
    "np.percentile(boot_means,2.5),np.percentile(boot_means,97.5)"
   ]
  },
  {
   "cell_type": "code",
   "execution_count": 14,
   "id": "980684fb",
   "metadata": {},
   "outputs": [
    {
     "data": {
      "text/plain": [
       "66.44340776214703"
      ]
     },
     "execution_count": 14,
     "metadata": {},
     "output_type": "execute_result"
    }
   ],
   "source": [
    "coffee_full[coffee_full['drinks_coffee']==False]['height'].mean()"
   ]
  },
  {
   "cell_type": "code",
   "execution_count": 20,
   "id": "3aa41583",
   "metadata": {},
   "outputs": [
    {
     "name": "stdout",
     "output_type": "stream",
     "text": [
      "   number\n",
      "4       5\n",
      "5       6\n",
      "1       2\n",
      "2       3\n",
      "3       4\n",
      "3       4\n"
     ]
    },
    {
     "data": {
      "text/plain": [
       "(array([1., 1., 1., 1., 0., 0., 1., 2., 1., 2.]),\n",
       " array([2.16666667, 2.43333333, 2.7       , 2.96666667, 3.23333333,\n",
       "        3.5       , 3.76666667, 4.03333333, 4.3       , 4.56666667,\n",
       "        4.83333333]),\n",
       " <BarContainer object of 10 artists>)"
      ]
     },
     "execution_count": 20,
     "metadata": {},
     "output_type": "execute_result"
    },
    {
     "data": {
      "image/png": "[encoded data removed]",
      "text/plain": [
       "<Figure size 432x288 with 1 Axes>"
      ]
     },
     "metadata": {
      "needs_background": "light"
     },
     "output_type": "display_data"
    }
   ],
   "source": [
    "# Other example\n",
    "dice = [1,2,3,4,5,6]\n",
    "dices = pd.DataFrame({'number' : dice})\n",
    "bootsamp2 = dices.sample(6, replace=True)\n",
    "dice_mean=[]\n",
    "print(bootsamp2)\n",
    "\n",
    "for i in range(10):\n",
    "    bootsamp2 = dices.sample(6, replace=True)\n",
    "    mean = bootsamp2['number'].mean()\n",
    "    dice_mean.append(mean)\n",
    "    \n",
    "plt.hist(dice_mean)"
   ]
  }
 ],
 "metadata": {
  "kernelspec": {
   "display_name": "Python 3 (ipykernel)",
   "language": "python",
   "name": "python3"
  },
  "language_info": {
   "codemirror_mode": {
    "name": "ipython",
    "version": 3
   },
   "file_extension": ".py",
   "mimetype": "text/x-python",
   "name": "python",
   "nbconvert_exporter": "python",
   "pygments_lexer": "ipython3",
   "version": "3.9.12"
  }
 },
 "nbformat": 4,
 "nbformat_minor": 5
}
