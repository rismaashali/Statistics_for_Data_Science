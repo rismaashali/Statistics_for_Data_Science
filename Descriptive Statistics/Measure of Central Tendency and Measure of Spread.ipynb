{
 "cells": [
  {
   "cell_type": "markdown",
   "id": "56cc076e",
   "metadata": {},
   "source": [
    "# Descriptive Statistics"
   ]
  },
  {
   "cell_type": "markdown",
   "id": "9555244d",
   "metadata": {},
   "source": [
    "Organizing, summarizing, and presenting data in an informative way"
   ]
  },
  {
   "cell_type": "code",
   "execution_count": 1,
   "id": "1fbc5fd7",
   "metadata": {},
   "outputs": [],
   "source": [
    "import pandas as pd\n",
    "import numpy as np\n",
    "import matplotlib.pyplot as plt\n",
    "import seaborn as sns"
   ]
  },
  {
   "cell_type": "code",
   "execution_count": 2,
   "id": "edc95b42",
   "metadata": {},
   "outputs": [],
   "source": [
    "df = pd.read_csv('Titanic.csv')"
   ]
  },
  {
   "cell_type": "code",
   "execution_count": 3,
   "id": "72179edf",
   "metadata": {},
   "outputs": [
    {
     "data": {
      "text/html": [
       "<div>\n",
       "<style scoped>\n",
       "    .dataframe tbody tr th:only-of-type {\n",
       "        vertical-align: middle;\n",
       "    }\n",
       "\n",
       "    .dataframe tbody tr th {\n",
       "        vertical-align: top;\n",
       "    }\n",
       "\n",
       "    .dataframe thead th {\n",
       "        text-align: right;\n",
       "    }\n",
       "</style>\n",
       "<table border=\"1\" class=\"dataframe\">\n",
       "  <thead>\n",
       "    <tr style=\"text-align: right;\">\n",
       "      <th></th>\n",
       "      <th>PassengerId</th>\n",
       "      <th>Survived</th>\n",
       "      <th>Pclass</th>\n",
       "      <th>Name</th>\n",
       "      <th>Sex</th>\n",
       "      <th>Age</th>\n",
       "      <th>SibSp</th>\n",
       "      <th>Parch</th>\n",
       "      <th>Ticket</th>\n",
       "      <th>Fare</th>\n",
       "      <th>Cabin</th>\n",
       "      <th>Embarked</th>\n",
       "    </tr>\n",
       "  </thead>\n",
       "  <tbody>\n",
       "    <tr>\n",
       "      <th>0</th>\n",
       "      <td>1</td>\n",
       "      <td>0</td>\n",
       "      <td>3</td>\n",
       "      <td>Braund, Mr. Owen Harris</td>\n",
       "      <td>male</td>\n",
       "      <td>22.0</td>\n",
       "      <td>1</td>\n",
       "      <td>0</td>\n",
       "      <td>A/5 21171</td>\n",
       "      <td>7.2500</td>\n",
       "      <td>NaN</td>\n",
       "      <td>S</td>\n",
       "    </tr>\n",
       "    <tr>\n",
       "      <th>1</th>\n",
       "      <td>2</td>\n",
       "      <td>1</td>\n",
       "      <td>1</td>\n",
       "      <td>Cumings, Mrs. John Bradley (Florence Briggs Th...</td>\n",
       "      <td>female</td>\n",
       "      <td>38.0</td>\n",
       "      <td>1</td>\n",
       "      <td>0</td>\n",
       "      <td>PC 17599</td>\n",
       "      <td>71.2833</td>\n",
       "      <td>C85</td>\n",
       "      <td>C</td>\n",
       "    </tr>\n",
       "    <tr>\n",
       "      <th>2</th>\n",
       "      <td>3</td>\n",
       "      <td>1</td>\n",
       "      <td>3</td>\n",
       "      <td>Heikkinen, Miss. Laina</td>\n",
       "      <td>female</td>\n",
       "      <td>26.0</td>\n",
       "      <td>0</td>\n",
       "      <td>0</td>\n",
       "      <td>STON/O2. 3101282</td>\n",
       "      <td>7.9250</td>\n",
       "      <td>NaN</td>\n",
       "      <td>S</td>\n",
       "    </tr>\n",
       "    <tr>\n",
       "      <th>3</th>\n",
       "      <td>4</td>\n",
       "      <td>1</td>\n",
       "      <td>1</td>\n",
       "      <td>Futrelle, Mrs. Jacques Heath (Lily May Peel)</td>\n",
       "      <td>female</td>\n",
       "      <td>35.0</td>\n",
       "      <td>1</td>\n",
       "      <td>0</td>\n",
       "      <td>113803</td>\n",
       "      <td>53.1000</td>\n",
       "      <td>C123</td>\n",
       "      <td>S</td>\n",
       "    </tr>\n",
       "    <tr>\n",
       "      <th>4</th>\n",
       "      <td>5</td>\n",
       "      <td>0</td>\n",
       "      <td>3</td>\n",
       "      <td>Allen, Mr. William Henry</td>\n",
       "      <td>male</td>\n",
       "      <td>35.0</td>\n",
       "      <td>0</td>\n",
       "      <td>0</td>\n",
       "      <td>373450</td>\n",
       "      <td>8.0500</td>\n",
       "      <td>NaN</td>\n",
       "      <td>S</td>\n",
       "    </tr>\n",
       "  </tbody>\n",
       "</table>\n",
       "</div>"
      ],
      "text/plain": [
       "   PassengerId  Survived  Pclass  \\\n",
       "0            1         0       3   \n",
       "1            2         1       1   \n",
       "2            3         1       3   \n",
       "3            4         1       1   \n",
       "4            5         0       3   \n",
       "\n",
       "                                                Name     Sex   Age  SibSp  \\\n",
       "0                            Braund, Mr. Owen Harris    male  22.0      1   \n",
       "1  Cumings, Mrs. John Bradley (Florence Briggs Th...  female  38.0      1   \n",
       "2                             Heikkinen, Miss. Laina  female  26.0      0   \n",
       "3       Futrelle, Mrs. Jacques Heath (Lily May Peel)  female  35.0      1   \n",
       "4                           Allen, Mr. William Henry    male  35.0      0   \n",
       "\n",
       "   Parch            Ticket     Fare Cabin Embarked  \n",
       "0      0         A/5 21171   7.2500   NaN        S  \n",
       "1      0          PC 17599  71.2833   C85        C  \n",
       "2      0  STON/O2. 3101282   7.9250   NaN        S  \n",
       "3      0            113803  53.1000  C123        S  \n",
       "4      0            373450   8.0500   NaN        S  "
      ]
     },
     "execution_count": 3,
     "metadata": {},
     "output_type": "execute_result"
    }
   ],
   "source": [
    "df.head()"
   ]
  },
  {
   "cell_type": "markdown",
   "id": "07d5bc4c",
   "metadata": {},
   "source": [
    "- **Measure of Central Tendency**"
   ]
  },
  {
   "cell_type": "markdown",
   "id": "ff9eab4f",
   "metadata": {},
   "source": [
    "**Mean** represents the average of the given collection of data. It is applicable for both continuous and discrete data."
   ]
  },
  {
   "cell_type": "code",
   "execution_count": 4,
   "id": "cb765b21",
   "metadata": {},
   "outputs": [
    {
     "data": {
      "text/plain": [
       "29.69911764705882"
      ]
     },
     "execution_count": 4,
     "metadata": {},
     "output_type": "execute_result"
    }
   ],
   "source": [
    "df['Age'].mean()"
   ]
  },
  {
   "cell_type": "markdown",
   "id": "c3e483e5",
   "metadata": {},
   "source": [
    "**Median** represents the mid-value of the given set of data when arranged in a particular order"
   ]
  },
  {
   "cell_type": "code",
   "execution_count": 5,
   "id": "4c4f80c9",
   "metadata": {},
   "outputs": [
    {
     "data": {
      "text/plain": [
       "28.0"
      ]
     },
     "execution_count": 5,
     "metadata": {},
     "output_type": "execute_result"
    }
   ],
   "source": [
    "df['Age'].median()"
   ]
  },
  {
   "cell_type": "markdown",
   "id": "71c0b685",
   "metadata": {},
   "source": [
    "The most frequent number occurring in the data set is known as the **mode**."
   ]
  },
  {
   "cell_type": "code",
   "execution_count": 6,
   "id": "2640034e",
   "metadata": {},
   "outputs": [
    {
     "data": {
      "text/plain": [
       "24.0"
      ]
     },
     "execution_count": 6,
     "metadata": {},
     "output_type": "execute_result"
    }
   ],
   "source": [
    "df['Age'].mode().values[0]"
   ]
  },
  {
   "cell_type": "code",
   "execution_count": null,
   "id": "5fe3c744",
   "metadata": {},
   "outputs": [],
   "source": [
    "# Task"
   ]
  },
  {
   "cell_type": "code",
   "execution_count": 7,
   "id": "ee6e3faf",
   "metadata": {},
   "outputs": [
    {
     "name": "stdout",
     "output_type": "stream",
     "text": [
      "Mean:  32.2042079685746\n",
      "Median:  14.4542\n",
      "Modus:  8.05\n"
     ]
    }
   ],
   "source": [
    "# data titanic\n",
    "print('Mean: ', df['Fare'].mean())\n",
    "print('Median: ', df['Fare'].median())\n",
    "print('Modus: ', df['Fare'].mode().values[0])"
   ]
  },
  {
   "cell_type": "code",
   "execution_count": 8,
   "id": "ba01e79f",
   "metadata": {},
   "outputs": [
    {
     "data": {
      "text/html": [
       "<div>\n",
       "<style scoped>\n",
       "    .dataframe tbody tr th:only-of-type {\n",
       "        vertical-align: middle;\n",
       "    }\n",
       "\n",
       "    .dataframe tbody tr th {\n",
       "        vertical-align: top;\n",
       "    }\n",
       "\n",
       "    .dataframe thead th {\n",
       "        text-align: right;\n",
       "    }\n",
       "</style>\n",
       "<table border=\"1\" class=\"dataframe\">\n",
       "  <thead>\n",
       "    <tr style=\"text-align: right;\">\n",
       "      <th></th>\n",
       "      <th>Nama</th>\n",
       "      <th>Usia</th>\n",
       "      <th>Domisili</th>\n",
       "      <th>Hobi</th>\n",
       "      <th>Cita-Cita</th>\n",
       "      <th>Hewan Peliharaan</th>\n",
       "    </tr>\n",
       "  </thead>\n",
       "  <tbody>\n",
       "    <tr>\n",
       "      <th>0</th>\n",
       "      <td>Jaza</td>\n",
       "      <td>22</td>\n",
       "      <td>Jogja</td>\n",
       "      <td>Masak</td>\n",
       "      <td>Pengusaha</td>\n",
       "      <td>10</td>\n",
       "    </tr>\n",
       "    <tr>\n",
       "      <th>1</th>\n",
       "      <td>Irvan</td>\n",
       "      <td>20</td>\n",
       "      <td>Palembang</td>\n",
       "      <td>Main gitar</td>\n",
       "      <td>Pemusik</td>\n",
       "      <td>7</td>\n",
       "    </tr>\n",
       "    <tr>\n",
       "      <th>2</th>\n",
       "      <td>Risma</td>\n",
       "      <td>21</td>\n",
       "      <td>Semarang</td>\n",
       "      <td>Membaca</td>\n",
       "      <td>Data Scientist</td>\n",
       "      <td>8</td>\n",
       "    </tr>\n",
       "    <tr>\n",
       "      <th>3</th>\n",
       "      <td>Rizal</td>\n",
       "      <td>21</td>\n",
       "      <td>Bandung</td>\n",
       "      <td>Nonton</td>\n",
       "      <td>Freelancer</td>\n",
       "      <td>4</td>\n",
       "    </tr>\n",
       "    <tr>\n",
       "      <th>4</th>\n",
       "      <td>Shafira</td>\n",
       "      <td>21</td>\n",
       "      <td>Surabaya</td>\n",
       "      <td>Travelling</td>\n",
       "      <td>Data Analyst</td>\n",
       "      <td>2</td>\n",
       "    </tr>\n",
       "  </tbody>\n",
       "</table>\n",
       "</div>"
      ],
      "text/plain": [
       "      Nama  Usia   Domisili        Hobi       Cita-Cita  Hewan Peliharaan\n",
       "0     Jaza    22      Jogja       Masak       Pengusaha                10\n",
       "1    Irvan    20  Palembang  Main gitar         Pemusik                 7\n",
       "2    Risma    21   Semarang     Membaca  Data Scientist                 8\n",
       "3    Rizal    21    Bandung      Nonton      Freelancer                 4\n",
       "4  Shafira    21   Surabaya  Travelling    Data Analyst                 2"
      ]
     },
     "execution_count": 8,
     "metadata": {},
     "output_type": "execute_result"
    }
   ],
   "source": [
    "df2 = pd.read_csv('kelompok2.csv')\n",
    "df2.head()"
   ]
  },
  {
   "cell_type": "code",
   "execution_count": 9,
   "id": "0e10d945",
   "metadata": {},
   "outputs": [
    {
     "data": {
      "text/plain": [
       "21.0"
      ]
     },
     "execution_count": 9,
     "metadata": {},
     "output_type": "execute_result"
    }
   ],
   "source": [
    "# manual\n",
    "mean = (22+20+21+21+21)/5\n",
    "mean"
   ]
  },
  {
   "cell_type": "code",
   "execution_count": 10,
   "id": "a9b39c0a",
   "metadata": {},
   "outputs": [
    {
     "name": "stdout",
     "output_type": "stream",
     "text": [
      "Mean:  21.0\n",
      "Median:  21.0\n",
      "Modus:  21\n"
     ]
    }
   ],
   "source": [
    "# numpy\n",
    "print('Mean: ', df2['Usia'].mean())\n",
    "print('Median: ', df2['Usia'].median())\n",
    "print('Modus: ', df2['Usia'].mode().values[0])"
   ]
  },
  {
   "cell_type": "markdown",
   "id": "6f10c046",
   "metadata": {},
   "source": [
    "- **Measure of Spread / Dispersion**"
   ]
  },
  {
   "cell_type": "markdown",
   "id": "f0b0de0e",
   "metadata": {},
   "source": [
    "**Range** : Calculate the difference by subtracting the smallest from the largest"
   ]
  },
  {
   "cell_type": "code",
   "execution_count": 11,
   "id": "e1b259a5",
   "metadata": {},
   "outputs": [],
   "source": [
    "df_age_notnull = df['Age'][df['Age'].notnull()]"
   ]
  },
  {
   "cell_type": "code",
   "execution_count": 12,
   "id": "88cf572d",
   "metadata": {},
   "outputs": [
    {
     "data": {
      "text/plain": [
       "0      22.0\n",
       "1      38.0\n",
       "2      26.0\n",
       "3      35.0\n",
       "4      35.0\n",
       "       ... \n",
       "885    39.0\n",
       "886    27.0\n",
       "887    19.0\n",
       "889    26.0\n",
       "890    32.0\n",
       "Name: Age, Length: 714, dtype: float64"
      ]
     },
     "execution_count": 12,
     "metadata": {},
     "output_type": "execute_result"
    }
   ],
   "source": [
    "df_age_notnull"
   ]
  },
  {
   "cell_type": "code",
   "execution_count": null,
   "id": "69d17c89",
   "metadata": {},
   "outputs": [],
   "source": [
    "# numpy"
   ]
  },
  {
   "cell_type": "code",
   "execution_count": 13,
   "id": "ab1a06bf",
   "metadata": {},
   "outputs": [
    {
     "name": "stdout",
     "output_type": "stream",
     "text": [
      "79.58\n"
     ]
    }
   ],
   "source": [
    "range_age = np.ptp(df_age_notnull)\n",
    "print(range_age)"
   ]
  },
  {
   "cell_type": "code",
   "execution_count": null,
   "id": "0f8bcb45",
   "metadata": {},
   "outputs": [],
   "source": [
    "# manual"
   ]
  },
  {
   "cell_type": "code",
   "execution_count": 14,
   "id": "a2a00638",
   "metadata": {},
   "outputs": [
    {
     "data": {
      "text/plain": [
       "80.0"
      ]
     },
     "execution_count": 14,
     "metadata": {},
     "output_type": "execute_result"
    }
   ],
   "source": [
    "df_age_notnull.max()"
   ]
  },
  {
   "cell_type": "code",
   "execution_count": 15,
   "id": "c5d35986",
   "metadata": {},
   "outputs": [
    {
     "data": {
      "text/plain": [
       "0.42"
      ]
     },
     "execution_count": 15,
     "metadata": {},
     "output_type": "execute_result"
    }
   ],
   "source": [
    "df_age_notnull.min()"
   ]
  },
  {
   "cell_type": "code",
   "execution_count": 16,
   "id": "cfd1f79d",
   "metadata": {},
   "outputs": [
    {
     "data": {
      "text/plain": [
       "79.58"
      ]
     },
     "execution_count": 16,
     "metadata": {},
     "output_type": "execute_result"
    }
   ],
   "source": [
    "df_age_notnull.max() - df_age_notnull.min()"
   ]
  },
  {
   "cell_type": "code",
   "execution_count": null,
   "id": "500cfc5f",
   "metadata": {},
   "outputs": [],
   "source": [
    "# Task"
   ]
  },
  {
   "cell_type": "code",
   "execution_count": 17,
   "id": "01d804cc",
   "metadata": {},
   "outputs": [
    {
     "data": {
      "text/plain": [
       "0       7.2500\n",
       "1      71.2833\n",
       "2       7.9250\n",
       "3      53.1000\n",
       "4       8.0500\n",
       "        ...   \n",
       "886    13.0000\n",
       "887    30.0000\n",
       "888    23.4500\n",
       "889    30.0000\n",
       "890     7.7500\n",
       "Name: Fare, Length: 891, dtype: float64"
      ]
     },
     "execution_count": 17,
     "metadata": {},
     "output_type": "execute_result"
    }
   ],
   "source": [
    "df_fare_notnull = df['Fare'][df['Fare'].notnull()]\n",
    "df_fare_notnull"
   ]
  },
  {
   "cell_type": "code",
   "execution_count": 18,
   "id": "1f5eec25",
   "metadata": {},
   "outputs": [
    {
     "name": "stdout",
     "output_type": "stream",
     "text": [
      "512.3292\n"
     ]
    }
   ],
   "source": [
    "#numpy\n",
    "range_fare = np.ptp(df_fare_notnull)\n",
    "print(range_fare)"
   ]
  },
  {
   "cell_type": "code",
   "execution_count": 19,
   "id": "357d3fea",
   "metadata": {},
   "outputs": [
    {
     "name": "stdout",
     "output_type": "stream",
     "text": [
      "Max:  512.3292\n",
      "Min:  0.0\n",
      "Range:  512.3292\n"
     ]
    }
   ],
   "source": [
    "#manual\n",
    "print('Max: ', df_fare_notnull.max())\n",
    "print('Min: ', df_fare_notnull.min())\n",
    "print('Range: ', df_fare_notnull.max()-df_fare_notnull.min())"
   ]
  },
  {
   "cell_type": "markdown",
   "id": "8d284c52",
   "metadata": {},
   "source": [
    "**Variance** estimates how far a set of numbers (random) are spread out from their mean value."
   ]
  },
  {
   "cell_type": "code",
   "execution_count": 20,
   "id": "3bbb55ff",
   "metadata": {},
   "outputs": [],
   "source": [
    "import statistics"
   ]
  },
  {
   "cell_type": "code",
   "execution_count": 21,
   "id": "10082957",
   "metadata": {},
   "outputs": [
    {
     "name": "stdout",
     "output_type": "stream",
     "text": [
      "211.01912474630805\n"
     ]
    }
   ],
   "source": [
    "variance_age = statistics.variance(df_age_notnull)\n",
    "print(variance_age)"
   ]
  },
  {
   "cell_type": "code",
   "execution_count": null,
   "id": "ff1cd29b",
   "metadata": {},
   "outputs": [],
   "source": [
    "# Task"
   ]
  },
  {
   "cell_type": "code",
   "execution_count": 22,
   "id": "5cbca5c0",
   "metadata": {},
   "outputs": [],
   "source": [
    "df2_usia_notnull = df2['Usia'][df2['Usia'].notnull()]"
   ]
  },
  {
   "cell_type": "code",
   "execution_count": 23,
   "id": "16765201",
   "metadata": {},
   "outputs": [
    {
     "name": "stdout",
     "output_type": "stream",
     "text": [
      "0.5\n"
     ]
    }
   ],
   "source": [
    "variance_usia = statistics.variance(df2_usia_notnull)\n",
    "print(variance_usia)"
   ]
  },
  {
   "cell_type": "markdown",
   "id": "b3778816",
   "metadata": {},
   "source": [
    "The **standard deviation** is a measure of the amount of variation or dispersion of a set of values.\n",
    "- A low standard deviation indicates that the values tend to be close to the mean of the set.\n",
    "- while a high standard deviation indicates that the values are spread out over a wider range."
   ]
  },
  {
   "cell_type": "code",
   "execution_count": 24,
   "id": "655b357a",
   "metadata": {},
   "outputs": [],
   "source": [
    "import statistics"
   ]
  },
  {
   "cell_type": "code",
   "execution_count": 25,
   "id": "0bc0cb1d",
   "metadata": {},
   "outputs": [
    {
     "name": "stdout",
     "output_type": "stream",
     "text": [
      "14.526497332334042\n"
     ]
    }
   ],
   "source": [
    "stdev_age = statistics.stdev(df_age_notnull)\n",
    "print(stdev_age)"
   ]
  },
  {
   "cell_type": "code",
   "execution_count": null,
   "id": "af4d9489",
   "metadata": {},
   "outputs": [],
   "source": [
    "# Task"
   ]
  },
  {
   "cell_type": "code",
   "execution_count": 26,
   "id": "2c09545e",
   "metadata": {},
   "outputs": [],
   "source": [
    "df2_usia_notnull = df2['Usia'][df2['Usia'].notnull()]"
   ]
  },
  {
   "cell_type": "code",
   "execution_count": 27,
   "id": "d4d5afef",
   "metadata": {},
   "outputs": [
    {
     "name": "stdout",
     "output_type": "stream",
     "text": [
      "0.7071067811865476\n"
     ]
    }
   ],
   "source": [
    "stdev_usia = statistics.stdev(df2_usia_notnull)\n",
    "print(stdev_usia)"
   ]
  },
  {
   "cell_type": "markdown",
   "id": "c9eb3e75",
   "metadata": {},
   "source": [
    "**Quantile** is a range from any value to any other value. Note that percentiles and quartiles are simply types of quantiles.\n",
    "- Q0 is the smallest value in the data\n",
    "- Q1 is the value separating the first quarter from the second quarter of the data\n",
    "- Q2 is the middle value (median), separating the bottom from the top half\n",
    "- Q3 is the value separating the third quarter from the fourth quarter\n",
    "- Q4 is the largest value in the data"
   ]
  },
  {
   "cell_type": "code",
   "execution_count": 28,
   "id": "589d037d",
   "metadata": {},
   "outputs": [
    {
     "name": "stdout",
     "output_type": "stream",
     "text": [
      "[ 0.42  20.125 28.    38.    80.   ]\n"
     ]
    }
   ],
   "source": [
    "quantile_age = np.quantile(df_age_notnull, [0,0.25,0.5,0.75,1])\n",
    "print(quantile_age)"
   ]
  },
  {
   "cell_type": "code",
   "execution_count": null,
   "id": "eb0293b5",
   "metadata": {},
   "outputs": [],
   "source": [
    "# Task"
   ]
  },
  {
   "cell_type": "code",
   "execution_count": 29,
   "id": "46aed1ff",
   "metadata": {},
   "outputs": [
    {
     "name": "stdout",
     "output_type": "stream",
     "text": [
      "[  0.       7.9104  14.4542  31.     512.3292]\n"
     ]
    }
   ],
   "source": [
    "#titanic\n",
    "quantile_fare = np.quantile(df_fare_notnull, [0,0.25,0.5,0.75,1])\n",
    "print(quantile_fare)"
   ]
  },
  {
   "cell_type": "code",
   "execution_count": 30,
   "id": "a44643a5",
   "metadata": {},
   "outputs": [
    {
     "name": "stdout",
     "output_type": "stream",
     "text": [
      "[20. 21. 21. 21. 22.]\n"
     ]
    }
   ],
   "source": [
    "#group2\n",
    "quantile_usia = np.quantile(df2_usia_notnull, [0,0.25,0.5,0.75,1])\n",
    "print(quantile_usia)"
   ]
  }
 ],
 "metadata": {
  "kernelspec": {
   "display_name": "Python 3 (ipykernel)",
   "language": "python",
   "name": "python3"
  },
  "language_info": {
   "codemirror_mode": {
    "name": "ipython",
    "version": 3
   },
   "file_extension": ".py",
   "mimetype": "text/x-python",
   "name": "python",
   "nbconvert_exporter": "python",
   "pygments_lexer": "ipython3",
   "version": "3.9.7"
  }
 },
 "nbformat": 4,
 "nbformat_minor": 5
}
